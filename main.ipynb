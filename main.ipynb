{
  "cells": [
    {
      "cell_type": "code",
      "execution_count": 2,
      "metadata": {
        "id": "xrpXugFsIxRd"
      },
      "outputs": [],
      "source": [
        "from keras.datasets import fashion_mnist\n",
        "from keras.models import Sequential\n",
        "from keras.layers import Dense,Conv2D,Dropout,MaxPooling2D,Flatten\n",
        "from keras.utils import np_utils\n",
        "import matplotlib.pyplot as plt\n",
        "from keras.preprocessing import image\n",
        "import numpy as np\n",
        "import tensorflow as tf"
      ]
    },
    {
      "cell_type": "code",
      "execution_count": 2,
      "metadata": {
        "colab": {
          "base_uri": "https://localhost:8080/"
        },
        "id": "Jdb3HfvWI-_F",
        "outputId": "f81abfbd-ae23-4526-c864-e611f36ea33e"
      },
      "outputs": [],
      "source": [
        "(x_train, y_train), (x_test, y_test) = fashion_mnist.load_data()"
      ]
    },
    {
      "cell_type": "code",
      "execution_count": 3,
      "metadata": {
        "id": "zAXCB9i-JCcf"
      },
      "outputs": [],
      "source": [
        "trainX = x_train.reshape((x_train.shape[0], 28, 28, 1))\n",
        "testX = x_test.reshape((x_test.shape[0], 28, 28, 1))\n",
        "trainX = trainX/255\n",
        "testX = testX/255"
      ]
    },
    {
      "cell_type": "code",
      "execution_count": 4,
      "metadata": {
        "colab": {
          "base_uri": "https://localhost:8080/",
          "height": 282
        },
        "id": "7WyHcRUiJEmz",
        "outputId": "009cefa6-6756-469f-9167-1e87fda45353"
      },
      "outputs": [
        {
          "data": {
            "text/plain": [
              "<matplotlib.image.AxesImage at 0x1807c5e5bb0>"
            ]
          },
          "execution_count": 4,
          "metadata": {},
          "output_type": "execute_result"
        },
        {
          "data": {
            "image/png": "[encoded data removed]",
            "text/plain": [
              "<Figure size 432x288 with 1 Axes>"
            ]
          },
          "metadata": {
            "needs_background": "light"
          },
          "output_type": "display_data"
        }
      ],
      "source": [
        "%matplotlib inline\n",
        "plt.imshow(x_test[2])"
      ]
    },
    {
      "cell_type": "code",
      "execution_count": 5,
      "metadata": {
        "id": "iP-M6UXZJGSQ"
      },
      "outputs": [],
      "source": [
        "trainY = np_utils.to_categorical(y_train,10)\n",
        "testY = np_utils.to_categorical(y_test,10)"
      ]
    },
    {
      "cell_type": "code",
      "execution_count": 6,
      "metadata": {
        "id": "AoJKlBF5JIij"
      },
      "outputs": [],
      "source": [
        "classifier = Sequential()\n",
        "classifier.add(Conv2D(filters=32, kernel_size=(3,3),strides=(1, 1), input_shape=(28,28,1), activation='relu'))\n",
        "classifier.add(MaxPooling2D(pool_size=(2,2)))\n",
        "classifier.add(Conv2D(filters=64, kernel_size=(3,3),strides=(1, 1), activation='relu'))\n",
        "classifier.add(MaxPooling2D(pool_size=(2,2)))\n",
        "classifier.add(Flatten())\n",
        "classifier.add(Dense(units=128,activation='relu'))\n",
        "classifier.add(Dropout(rate=0.2))\n",
        "classifier.add(Dense(units=10, activation='softmax'))"
      ]
    },
    {
      "cell_type": "code",
      "execution_count": 7,
      "metadata": {
        "id": "Nd-amzneJOKp"
      },
      "outputs": [],
      "source": [
        "classifier.compile(optimizer='adam',loss='categorical_crossentropy',metrics=['accuracy'])"
      ]
    },
    {
      "cell_type": "code",
      "execution_count": 8,
      "metadata": {
        "colab": {
          "base_uri": "https://localhost:8080/"
        },
        "id": "yBNIdfiAJRcv",
        "outputId": "330a166d-73b3-48f2-ecfe-c3b08e944d14"
      },
      "outputs": [
        {
          "name": "stdout",
          "output_type": "stream",
          "text": [
            "Model: \"sequential\"\n",
            "_________________________________________________________________\n",
            " Layer (type)                Output Shape              Param #   \n",
            "=================================================================\n",
            " conv2d (Conv2D)             (None, 26, 26, 32)        320       \n",
            "                                                                 \n",
            " max_pooling2d (MaxPooling2D  (None, 13, 13, 32)       0         \n",
            " )                                                               \n",
            "                                                                 \n",
            " conv2d_1 (Conv2D)           (None, 11, 11, 64)        18496     \n",
            "                                                                 \n",
            " max_pooling2d_1 (MaxPooling  (None, 5, 5, 64)         0         \n",
            " 2D)                                                             \n",
            "                                                                 \n",
            " flatten (Flatten)           (None, 1600)              0         \n",
            "                                                                 \n",
            " dense (Dense)               (None, 128)               204928    \n",
            "                                                                 \n",
            " dropout (Dropout)           (None, 128)               0         \n",
            "                                                                 \n",
            " dense_1 (Dense)             (None, 10)                1290      \n",
            "                                                                 \n",
            "=================================================================\n",
            "Total params: 225,034\n",
            "Trainable params: 225,034\n",
            "Non-trainable params: 0\n",
            "_________________________________________________________________\n"
          ]
        }
      ],
      "source": [
        "classifier.summary()"
      ]
    },
    {
      "cell_type": "code",
      "execution_count": 9,
      "metadata": {
        "colab": {
          "base_uri": "https://localhost:8080/"
        },
        "id": "bhuxuERyJTXd",
        "outputId": "befba0c7-2d64-4a54-d2ff-2b270c0edbc7"
      },
      "outputs": [
        {
          "name": "stdout",
          "output_type": "stream",
          "text": [
            "Epoch 1/20\n",
            "469/469 - 17s - loss: 0.5713 - accuracy: 0.7941 - val_loss: 0.4234 - val_accuracy: 0.8462 - 17s/epoch - 36ms/step\n",
            "Epoch 2/20\n",
            "469/469 - 16s - loss: 0.3677 - accuracy: 0.8672 - val_loss: 0.3434 - val_accuracy: 0.8741 - 16s/epoch - 34ms/step\n",
            "Epoch 3/20\n",
            "469/469 - 16s - loss: 0.3196 - accuracy: 0.8830 - val_loss: 0.3095 - val_accuracy: 0.8884 - 16s/epoch - 35ms/step\n",
            "Epoch 4/20\n",
            "469/469 - 17s - loss: 0.2902 - accuracy: 0.8929 - val_loss: 0.2905 - val_accuracy: 0.8937 - 17s/epoch - 35ms/step\n",
            "Epoch 5/20\n",
            "469/469 - 16s - loss: 0.2662 - accuracy: 0.9027 - val_loss: 0.2809 - val_accuracy: 0.8971 - 16s/epoch - 33ms/step\n",
            "Epoch 6/20\n",
            "469/469 - 15s - loss: 0.2462 - accuracy: 0.9101 - val_loss: 0.2666 - val_accuracy: 0.9036 - 15s/epoch - 33ms/step\n",
            "Epoch 7/20\n",
            "469/469 - 15s - loss: 0.2314 - accuracy: 0.9156 - val_loss: 0.2682 - val_accuracy: 0.9021 - 15s/epoch - 32ms/step\n",
            "Epoch 8/20\n",
            "469/469 - 15s - loss: 0.2142 - accuracy: 0.9204 - val_loss: 0.2539 - val_accuracy: 0.9081 - 15s/epoch - 32ms/step\n",
            "Epoch 9/20\n",
            "469/469 - 15s - loss: 0.2021 - accuracy: 0.9257 - val_loss: 0.2480 - val_accuracy: 0.9104 - 15s/epoch - 32ms/step\n",
            "Epoch 10/20\n",
            "469/469 - 15s - loss: 0.1872 - accuracy: 0.9308 - val_loss: 0.2398 - val_accuracy: 0.9118 - 15s/epoch - 32ms/step\n",
            "Epoch 11/20\n",
            "469/469 - 15s - loss: 0.1769 - accuracy: 0.9343 - val_loss: 0.2386 - val_accuracy: 0.9120 - 15s/epoch - 32ms/step\n",
            "Epoch 12/20\n",
            "469/469 - 15s - loss: 0.1647 - accuracy: 0.9390 - val_loss: 0.2458 - val_accuracy: 0.9127 - 15s/epoch - 32ms/step\n",
            "Epoch 13/20\n",
            "469/469 - 15s - loss: 0.1540 - accuracy: 0.9437 - val_loss: 0.2472 - val_accuracy: 0.9149 - 15s/epoch - 32ms/step\n",
            "Epoch 14/20\n",
            "469/469 - 15s - loss: 0.1441 - accuracy: 0.9459 - val_loss: 0.2578 - val_accuracy: 0.9132 - 15s/epoch - 32ms/step\n",
            "Epoch 15/20\n",
            "469/469 - 15s - loss: 0.1354 - accuracy: 0.9495 - val_loss: 0.2558 - val_accuracy: 0.9117 - 15s/epoch - 32ms/step\n",
            "Epoch 16/20\n",
            "469/469 - 15s - loss: 0.1258 - accuracy: 0.9537 - val_loss: 0.2644 - val_accuracy: 0.9133 - 15s/epoch - 32ms/step\n",
            "Epoch 17/20\n",
            "469/469 - 15s - loss: 0.1198 - accuracy: 0.9556 - val_loss: 0.2662 - val_accuracy: 0.9171 - 15s/epoch - 32ms/step\n",
            "Epoch 18/20\n",
            "469/469 - 15s - loss: 0.1122 - accuracy: 0.9580 - val_loss: 0.2671 - val_accuracy: 0.9122 - 15s/epoch - 32ms/step\n",
            "Epoch 19/20\n",
            "469/469 - 15s - loss: 0.1050 - accuracy: 0.9599 - val_loss: 0.2758 - val_accuracy: 0.9162 - 15s/epoch - 32ms/step\n",
            "Epoch 20/20\n",
            "469/469 - 15s - loss: 0.0999 - accuracy: 0.9630 - val_loss: 0.2847 - val_accuracy: 0.9161 - 15s/epoch - 32ms/step\n"
          ]
        }
      ],
      "source": [
        "history = classifier.fit(trainX, trainY,\n",
        " batch_size=128, epochs=20,\n",
        " verbose=2,\n",
        " validation_data=(testX, testY))"
      ]
    },
    {
      "cell_type": "code",
      "execution_count": 30,
      "metadata": {},
      "outputs": [
        {
          "data": {
            "text/plain": [
              "array([[0, 0, 0, 0, 0, 0, 0, 1, 0, 0]])"
            ]
          },
          "execution_count": 30,
          "metadata": {},
          "output_type": "execute_result"
        }
      ],
      "source": [
        "test_img = image.load_img(\"./content/sneaker.jpg\", target_size=(28, 28))\n",
        "test_img = image.img_to_array(test_img)\n",
        "test_img = test_img[:,:,1].reshape(1,28,28,1)\n",
        "test_img = test_img/255\n",
        "(classifier.predict(test_img) > 0.5).astype(\"int32\")"
      ]
    },
    {
      "cell_type": "code",
      "execution_count": 29,
      "metadata": {
        "id": "-I8s5fiSSM9h"
      },
      "outputs": [
        {
          "data": {
            "text/plain": [
              "array([[0, 0, 0, 0, 0, 0, 0, 0, 1, 0]])"
            ]
          },
          "execution_count": 29,
          "metadata": {},
          "output_type": "execute_result"
        }
      ],
      "source": [
        "test_img2 = image.load_img(\"./content/bag.jpg\", target_size=(28, 28))\n",
        "test_img2 = image.img_to_array(test_img2)\n",
        "test_img2 = test_img2[:,:,1].reshape(1,28,28,1)\n",
        "test_img2 = test_img2/255\n",
        "(classifier.predict(test_img2) > 0.5).astype(\"int32\")"
      ]
    },
    {
      "cell_type": "code",
      "execution_count": 31,
      "metadata": {},
      "outputs": [
        {
          "data": {
            "text/plain": [
              "array([[0, 0, 0, 0, 0, 0, 1, 0, 0, 0]])"
            ]
          },
          "execution_count": 31,
          "metadata": {},
          "output_type": "execute_result"
        }
      ],
      "source": [
        "test_img3 = image.load_img(\"content/shirt.jpg\", target_size=(28, 28))\n",
        "test_img3 = image.img_to_array(test_img3)\n",
        "test_img3 = test_img3[:,:,1].reshape(1,28,28,1)\n",
        "test_img3 = test_img3/255\n",
        "(classifier.predict(test_img3) > 0.5).astype(\"int32\")"
      ]
    },
    {
      "cell_type": "code",
      "execution_count": 33,
      "metadata": {},
      "outputs": [
        {
          "name": "stdout",
          "output_type": "stream",
          "text": [
            "INFO:tensorflow:Assets written to: fashion_model\\assets\n"
          ]
        }
      ],
      "source": [
        "classifier.save('fashion_model')"
      ]
    },
    {
      "cell_type": "code",
      "execution_count": 7,
      "metadata": {},
      "outputs": [
        {
          "name": "stdout",
          "output_type": "stream",
          "text": [
            "[[0 0 0 0 0 0 0 0 1 0]]\n"
          ]
        }
      ],
      "source": [
        "final_img = image.load_img(\"content/bag.jpg\", target_size=(28, 28))\n",
        "final_img = image.img_to_array(final_img)\n",
        "final_img = final_img[:, :, 1].reshape(1, 28, 28, 1)\n",
        "final_img = final_img / 255\n",
        "\n",
        "model = tf.keras.models.load_model('fashion_model')\n",
        "\n",
        "l = (model.predict(final_img) > 0.5).astype(\"int32\")\n",
        "\n",
        "print(l)\n",
        "\n",
        "ans = 0\n",
        "for i in range(0, len(l[0])):\n",
        "    if l[0][i] == 1:\n",
        "        ans = i\n",
        "\n",
        "f = open(\"fl.txt\", \"w\")\n",
        "f.write(str(ans))\n",
        "f.close()"
      ]
    }
  ],
  "metadata": {
    "accelerator": "GPU",
    "colab": {
      "collapsed_sections": [],
      "name": "Copy of Micro",
      "provenance": []
    },
    "kernelspec": {
      "display_name": "Python 3",
      "name": "python3"
    },
    "language_info": {
      "codemirror_mode": {
        "name": "ipython",
        "version": 3
      },
      "file_extension": ".py",
      "mimetype": "text/x-python",
      "name": "python",
      "nbconvert_exporter": "python",
      "pygments_lexer": "ipython3",
      "version": "3.9.7"
    }
  },
  "nbformat": 4,
  "nbformat_minor": 0
}
